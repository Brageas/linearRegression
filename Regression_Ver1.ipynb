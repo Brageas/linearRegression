{
 "cells": [
  {
   "cell_type": "markdown",
   "metadata": {},
   "source": [
    "### Applied Statistics, Spring 2020"
   ]
  },
  {
   "cell_type": "markdown",
   "metadata": {},
   "source": [
    "Jo Carpenter & Brage Askeli"
   ]
  },
  {
   "cell_type": "markdown",
   "metadata": {},
   "source": [
    "### Import libraries:"
   ]
  },
  {
   "cell_type": "code",
   "execution_count": 10,
   "metadata": {},
   "outputs": [],
   "source": [
    "import scipy.io as sio\n",
    "import numpy as np\n",
    "from array import *\n",
    "import scipy.stats as stats\n",
    "import matplotlib.pyplot as plt\n",
    "import seaborn as seabornInstance \n",
    "from sklearn.model_selection import train_test_split \n",
    "from sklearn.linear_model import LinearRegression\n",
    "from sklearn import metrics\n",
    "%matplotlib inline\n",
    "import pandas as pd  "
   ]
  },
  {
   "cell_type": "markdown",
   "metadata": {},
   "source": [
    "### Load dataset:"
   ]
  },
  {
   "cell_type": "code",
   "execution_count": 21,
   "metadata": {},
   "outputs": [],
   "source": [
    "# load and save .mat file to a dictionary\n",
    "matfile = sio.loadmat(\"C:\\\\Users\\\\17145\\\\Downloads\\\\MATLAB\\\\moser_matlab\\\\data_OVC\\\\datasetLinR.mat\") # insert filepath \n",
    "\n",
    "# extract variables\n",
    "cellSpikes = matfile[\"smoothSpikes\"] # 3 conditions (1x3), 4 cells (1x4)\n",
    "trackingTimes = matfile[\"TrackingTimes\"] # 3 conditions (1x3)\n",
    "posX = matfile[\"PosX\"] # 3 conditions (1x3) \n",
    "posY = matfile[\"PosY\"] # 3 conditions (1x3)\n",
    "speed = matfile[\"speed\"] # 3 conditions (1x3)\n",
    "objDist = matfile[\"ObjDistance\"] # 3 conditions (1x3)\n",
    "headAngle = matfile[\"HeadDirection\"] # 3 conditions (1x3)\n",
    "\n",
    "# indexing, ex. cellSpikes:\n",
    "# conditionCS = cellSpikes[0][0] # gets cellSpikes for 4 neurons recorded in condition #1\n",
    "# neuronCS = conditionCS[0][1] # gets cellSpikes for neuron #2 in condition #1"
   ]
  }
 ],
 "metadata": {
  "kernelspec": {
   "display_name": "Python 3",
   "language": "python",
   "name": "python3"
  },
  "language_info": {
   "codemirror_mode": {
    "name": "ipython",
    "version": 3
   },
   "file_extension": ".py",
   "mimetype": "text/x-python",
   "name": "python",
   "nbconvert_exporter": "python",
   "pygments_lexer": "ipython3",
   "version": "3.7.3"
  }
 },
 "nbformat": 4,
 "nbformat_minor": 4
}
